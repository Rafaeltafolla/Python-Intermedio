{
 "cells": [
  {
   "cell_type": "markdown",
   "id": "8f3c59b5",
   "metadata": {},
   "source": [
    "# Laboratorio\n"
   ]
  },
  {
   "cell_type": "code",
   "execution_count": 3,
   "id": "58445505",
   "metadata": {},
   "outputs": [
    {
     "name": "stdout",
     "output_type": "stream",
     "text": [
      "El total de hola son:  3\n"
     ]
    }
   ],
   "source": [
    "Palabras = [\"hola\",\"adios\",\"bye\",\"hola\", \"bye\", \"adios\", \"hello\", \"hola\"]\n",
    "\n",
    "x = 0 \n",
    "for i in Palabras: \n",
    "    if (i == 'hola'):\n",
    "        x +=1\n",
    "print(\"El total de hola son: \", x)"
   ]
  },
  {
   "cell_type": "markdown",
   "id": "c785ee0c",
   "metadata": {},
   "source": [
    "# Opciones :\n",
    "\n",
    "## una funcion para obtener el IVA del subtotal de una compra \n",
    "\n",
    "## (IVA 16%)\n",
    "\n",
    "## IVA = subtotal * 16%"
   ]
  },
  {
   "cell_type": "code",
   "execution_count": 4,
   "id": "687d866e",
   "metadata": {},
   "outputs": [
    {
     "name": "stdout",
     "output_type": "stream",
     "text": [
      "Ingrese su num y que represente su IVA: \n",
      "ingrese el primer numero: 1020\n",
      "ingrese el primer numero: 1000\n",
      "elementos de la lista  [1020, 1000]\n",
      "<class 'map'>\n",
      "resultados  16320\n",
      "resultados  16000\n"
     ]
    }
   ],
   "source": [
    "list=[]\n",
    "def IVA(n):\n",
    "    return n*16\n",
    "print(\"Ingrese su num y que represente su IVA: \")\n",
    "\n",
    "a = int(input(\"ingrese el primer numero: \"))\n",
    "list.append(a)\n",
    "\n",
    "b = int(input(\"ingrese el primer numero: \"))\n",
    "list.append(b)\n",
    "\n",
    "print (\"elementos de la lista \", list)\n",
    "\n",
    "resultado = map(IVA, list)\n",
    "print(type(resultado))\n",
    "for r in resultado: \n",
    "    print(\"resultados \", r)"
   ]
  },
  {
   "cell_type": "code",
   "execution_count": null,
   "id": "42939afe",
   "metadata": {},
   "outputs": [],
   "source": []
  }
 ],
 "metadata": {
  "kernelspec": {
   "display_name": "Python 3 (ipykernel)",
   "language": "python",
   "name": "python3"
  },
  "language_info": {
   "codemirror_mode": {
    "name": "ipython",
    "version": 3
   },
   "file_extension": ".py",
   "mimetype": "text/x-python",
   "name": "python",
   "nbconvert_exporter": "python",
   "pygments_lexer": "ipython3",
   "version": "3.9.12"
  }
 },
 "nbformat": 4,
 "nbformat_minor": 5
}
