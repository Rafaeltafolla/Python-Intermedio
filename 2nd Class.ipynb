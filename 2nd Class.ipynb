{
 "cells": [
  {
   "cell_type": "markdown",
   "id": "575fc714",
   "metadata": {},
   "source": [
    "# Tipos de datos \n",
    "# Operaciones\n",
    "# Variable \n",
    "# Condicionales "
   ]
  },
  {
   "cell_type": "code",
   "execution_count": 1,
   "id": "d262801a",
   "metadata": {},
   "outputs": [
    {
     "name": "stdout",
     "output_type": "stream",
     "text": [
      "25\n"
     ]
    }
   ],
   "source": [
    "nombre = 15\n",
    "print (nombre + 10 )"
   ]
  },
  {
   "cell_type": "markdown",
   "id": "88e784f6",
   "metadata": {},
   "source": [
    "# Laboratorio 1: "
   ]
  },
  {
   "cell_type": "markdown",
   "id": "6e312a08",
   "metadata": {},
   "source": [
    "### Repaso a condicionales (if), tipos de datos, variables, funcion, input() y print()\n",
    "#### crear un programa que pregunte al usuario su apellido "
   ]
  },
  {
   "cell_type": "code",
   "execution_count": 3,
   "id": "61d8c2a0",
   "metadata": {},
   "outputs": [
    {
     "name": "stdout",
     "output_type": "stream",
     "text": [
      "ingresa tu apellido: Bond\n",
      "Welcome to the mission Bond, James Bond\n"
     ]
    }
   ],
   "source": [
    "nombre = input(\"ingresa tu apellido: \")\n",
    "if nombre == \"bond\" or nombre == \"Bond\":\n",
    "    print(\"Welcome to the mission Bond, James Bond\")\n",
    "else:\n",
    "    print(\"Good Morning: \", nombre)"
   ]
  },
  {
   "cell_type": "code",
   "execution_count": 4,
   "id": "40953b39",
   "metadata": {},
   "outputs": [
    {
     "name": "stdout",
     "output_type": "stream",
     "text": [
      "ingresa tu apellido: Tafolla\n",
      "Good Morning:  Tafolla\n"
     ]
    }
   ],
   "source": [
    "nombre = input(\"ingresa tu apellido: \")\n",
    "if nombre == \"bond\" or nombre == \"Bond\":\n",
    "    print(\"Welcome to the mission Bond, James Bond\")\n",
    "else:\n",
    "    print(\"Good Morning: \", nombre)"
   ]
  },
  {
   "cell_type": "code",
   "execution_count": 7,
   "id": "197a1f88",
   "metadata": {},
   "outputs": [
    {
     "name": "stdout",
     "output_type": "stream",
     "text": [
      "True\n"
     ]
    }
   ],
   "source": [
    "esta_lloviendo = False\n",
    "hay_luz = True \n",
    "\n",
    "print(True and True)"
   ]
  },
  {
   "cell_type": "code",
   "execution_count": 8,
   "id": "f0c5cc0e",
   "metadata": {},
   "outputs": [
    {
     "name": "stdout",
     "output_type": "stream",
     "text": [
      "False\n"
     ]
    }
   ],
   "source": [
    "esta_lloviendo = False\n",
    "hay_luz = True \n",
    "\n",
    "print(True and False)"
   ]
  },
  {
   "cell_type": "code",
   "execution_count": 9,
   "id": "4c1448d7",
   "metadata": {},
   "outputs": [
    {
     "name": "stdout",
     "output_type": "stream",
     "text": [
      "False\n"
     ]
    }
   ],
   "source": [
    "esta_lloviendo = False\n",
    "hay_luz = True \n",
    "\n",
    "print(False and False)"
   ]
  },
  {
   "cell_type": "code",
   "execution_count": null,
   "id": "d4066914",
   "metadata": {},
   "outputs": [],
   "source": []
  }
 ],
 "metadata": {
  "kernelspec": {
   "display_name": "Python 3 (ipykernel)",
   "language": "python",
   "name": "python3"
  },
  "language_info": {
   "codemirror_mode": {
    "name": "ipython",
    "version": 3
   },
   "file_extension": ".py",
   "mimetype": "text/x-python",
   "name": "python",
   "nbconvert_exporter": "python",
   "pygments_lexer": "ipython3",
   "version": "3.9.12"
  }
 },
 "nbformat": 4,
 "nbformat_minor": 5
}
