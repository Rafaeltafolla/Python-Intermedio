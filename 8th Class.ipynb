{
 "cells": [
  {
   "cell_type": "code",
   "execution_count": 1,
   "id": "ac565657",
   "metadata": {},
   "outputs": [
    {
     "ename": "SyntaxError",
     "evalue": "invalid syntax (1365439450.py, line 1)",
     "output_type": "error",
     "traceback": [
      "\u001b[0;36m  Input \u001b[0;32mIn [1]\u001b[0;36m\u001b[0m\n\u001b[0;31m    from requests\u001b[0m\n\u001b[0m                  ^\u001b[0m\n\u001b[0;31mSyntaxError\u001b[0m\u001b[0;31m:\u001b[0m invalid syntax\n"
     ]
    }
   ],
   "source": [
    "from requests \n",
    "from bs4 import BeautifulSoup\n",
    "from cvs import writer\n",
    "\n",
    "url = 'https://coinmarketcap.com/'\n",
    "\n",
    "page = requests.get(url)\n",
    "soup = BeautifulSoup(page.text, 'html.parser')\n",
    "tbody = soup.find(\"tbody\")\n",
    "\n",
    "\n",
    "market_cap ={}\n",
    "for tr in tbody.contents:\n",
    "    try: \n",
    "        link = tr.find(\"a\")['href']\n",
    "        link = \"https://coinmarketcap.com\" + link \n",
    "        pagelink = requests.get(link)\n",
    "        souplink = BeautifulSoup(pagelink.text, 'html.parser')\n",
    "        nombre = souplink.find(class_='priceHeading').text\n",
    "        value = souplink.find(class_=\"priceValue\").text\n",
    "        market_cap[nombre] = value\n",
    "        \n",
    "    except:\n",
    "        pass\n",
    "columnas = [\"Criptomoneda\", \"Precio\"]\n",
    "file = open(\"criptomonedas.cvs\", \"w\", newline='')\n",
    "file_writer = writer(file)\n",
    "file_writer.writerow(columnas)\n",
    "for item in market_cap.items():\n",
    "    file_writer.writerow(item)\n",
    "    \n",
    "file.close()"
   ]
  },
  {
   "cell_type": "code",
   "execution_count": null,
   "id": "5bf5f335",
   "metadata": {},
   "outputs": [],
   "source": []
  }
 ],
 "metadata": {
  "kernelspec": {
   "display_name": "Python 3 (ipykernel)",
   "language": "python",
   "name": "python3"
  },
  "language_info": {
   "codemirror_mode": {
    "name": "ipython",
    "version": 3
   },
   "file_extension": ".py",
   "mimetype": "text/x-python",
   "name": "python",
   "nbconvert_exporter": "python",
   "pygments_lexer": "ipython3",
   "version": "3.9.12"
  }
 },
 "nbformat": 4,
 "nbformat_minor": 5
}
