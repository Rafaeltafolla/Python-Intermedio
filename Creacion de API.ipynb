{
 "cells": [
  {
   "cell_type": "code",
   "execution_count": null,
   "id": "68f32a8f",
   "metadata": {},
   "outputs": [],
   "source": [
    "from flask import Flask \n",
    "\n",
    "app = Flask(_name_)\n",
    "\n",
    "@app.route('/')\n",
    "def index():\n",
    "    return 'This is my new API'\n",
    "\n",
    "@app.route ('/movies')\n",
    "def get_movies():\n",
    "    return {\n",
    "        'movies'\n",
    "    }"
   ]
  }
 ],
 "metadata": {
  "kernelspec": {
   "display_name": "Python 3 (ipykernel)",
   "language": "python",
   "name": "python3"
  },
  "language_info": {
   "codemirror_mode": {
    "name": "ipython",
    "version": 3
   },
   "file_extension": ".py",
   "mimetype": "text/x-python",
   "name": "python",
   "nbconvert_exporter": "python",
   "pygments_lexer": "ipython3",
   "version": "3.9.12"
  }
 },
 "nbformat": 4,
 "nbformat_minor": 5
}
