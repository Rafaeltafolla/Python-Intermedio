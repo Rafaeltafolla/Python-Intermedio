{
 "cells": [
  {
   "cell_type": "code",
   "execution_count": 2,
   "id": "e9fbbabe",
   "metadata": {},
   "outputs": [
    {
     "name": "stdout",
     "output_type": "stream",
     "text": [
      "None\n",
      "None\n",
      "None\n"
     ]
    }
   ],
   "source": [
    "import re \n",
    "\n",
    "patron = re.compile(\"^#[A-Z]{2}[0-9]{0,3}$\")\n",
    "\n",
    "print(patron.search(\"SA123\"))\n",
    "print(patron.search(\"EWL681\"))\n",
    "print(patron.search(\"WILSON\"))\n"
   ]
  },
  {
   "cell_type": "code",
   "execution_count": null,
   "id": "40a07bd2",
   "metadata": {},
   "outputs": [],
   "source": []
  }
 ],
 "metadata": {
  "kernelspec": {
   "display_name": "Python 3 (ipykernel)",
   "language": "python",
   "name": "python3"
  },
  "language_info": {
   "codemirror_mode": {
    "name": "ipython",
    "version": 3
   },
   "file_extension": ".py",
   "mimetype": "text/x-python",
   "name": "python",
   "nbconvert_exporter": "python",
   "pygments_lexer": "ipython3",
   "version": "3.9.12"
  }
 },
 "nbformat": 4,
 "nbformat_minor": 5
}
